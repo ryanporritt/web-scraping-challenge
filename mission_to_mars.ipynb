{
 "cells": [
  {
   "cell_type": "code",
   "execution_count": 1,
   "metadata": {},
   "outputs": [],
   "source": [
    "from splinter import Browser\n",
    "from bs4 import BeautifulSoup\n",
    "import pandas as pd"
   ]
  },
  {
   "cell_type": "code",
   "execution_count": 2,
   "metadata": {},
   "outputs": [],
   "source": [
    "executable_path = {\"executable_path\": \"C:/chromedrv/chromedriver.exe\"}\n",
    "browser = Browser('chrome', **executable_path, headless=False)"
   ]
  },
  {
   "cell_type": "markdown",
   "metadata": {},
   "source": [
    "## NASA Mars News"
   ]
  },
  {
   "cell_type": "code",
   "execution_count": null,
   "metadata": {},
   "outputs": [],
   "source": [
    "url = \"https://mars.nasa.gov/news/\"\n",
    "browser.visit(url)"
   ]
  },
  {
   "cell_type": "markdown",
   "metadata": {},
   "source": [
    "## Assign variables to Latest News Title and Paragraph Text"
   ]
  },
  {
   "cell_type": "code",
   "execution_count": null,
   "metadata": {},
   "outputs": [],
   "source": [
    "html = browser.html\n",
    "soup = BeautifulSoup(html, 'html.parser')"
   ]
  },
  {
   "cell_type": "code",
   "execution_count": null,
   "metadata": {},
   "outputs": [],
   "source": [
    "sidebar = soup.find('div', class_='content_title')\n",
    "categories = sidebar.find_all('a')\n",
    "\n",
    "for category in categories:\n",
    "    news_title = category.text.strip()\n",
    "news_title"
   ]
  },
  {
   "cell_type": "code",
   "execution_count": null,
   "metadata": {},
   "outputs": [],
   "source": [
    "sidebar = soup.find('div', class_='article_teaser_body')\n",
    "news_p = sidebar.text.strip()\n",
    "news_p"
   ]
  },
  {
   "cell_type": "code",
   "execution_count": null,
   "metadata": {},
   "outputs": [],
   "source": []
  },
  {
   "cell_type": "code",
   "execution_count": null,
   "metadata": {},
   "outputs": [],
   "source": [
    "url = \"https://mars.nasa.gov/news/\"\n",
    "browser.visit(url)"
   ]
  },
  {
   "cell_type": "code",
   "execution_count": null,
   "metadata": {},
   "outputs": [],
   "source": [
    "browser.is_element_present_by_css(\"ul.item_list li.slide\", wait_time=0.5)\n",
    "html = browser.html\n",
    "news_soup = BeautifulSoup(html, 'html.parser')"
   ]
  },
  {
   "cell_type": "code",
   "execution_count": null,
   "metadata": {},
   "outputs": [],
   "source": [
    "try:\n",
    "    slide_elem = news_soup.select_one(\"ul.item_list li.slide\")\n",
    "    news_title = slide_elem.find(\"div\", class_=\"content_title\").get_text()\n",
    "    news_p = slide_elem.find(\"div\", class_=\"article_teaser_body\").get_text()\n",
    "except AttributeError:\n",
    "    print(\"none\")\n",
    "print(news_title)\n",
    "print(news_p)"
   ]
  },
  {
   "cell_type": "code",
   "execution_count": null,
   "metadata": {},
   "outputs": [],
   "source": []
  },
  {
   "cell_type": "code",
   "execution_count": null,
   "metadata": {},
   "outputs": [],
   "source": []
  },
  {
   "cell_type": "markdown",
   "metadata": {},
   "source": [
    "## JPL Mars Space Images "
   ]
  },
  {
   "cell_type": "code",
   "execution_count": null,
   "metadata": {},
   "outputs": [],
   "source": [
    "url = 'https://www.jpl.nasa.gov/spaceimages/?search=&category=Mars'\n",
    "browser.visit(url)"
   ]
  },
  {
   "cell_type": "code",
   "execution_count": null,
   "metadata": {},
   "outputs": [],
   "source": [
    "full_image_elem = browser.find_by_id('full_image')\n",
    "full_image_elem.click()"
   ]
  },
  {
   "cell_type": "code",
   "execution_count": null,
   "metadata": {},
   "outputs": [],
   "source": [
    "browser.click_link_by_partial_text('more info')"
   ]
  },
  {
   "cell_type": "code",
   "execution_count": null,
   "metadata": {},
   "outputs": [],
   "source": [
    "html = browser.html\n",
    "img_soup = BeautifulSoup(html, 'html.parser')"
   ]
  },
  {
   "cell_type": "code",
   "execution_count": null,
   "metadata": {},
   "outputs": [],
   "source": [
    "img_url_rel = img_soup.select_one('figure.lede a img').get('src')"
   ]
  },
  {
   "cell_type": "code",
   "execution_count": null,
   "metadata": {},
   "outputs": [],
   "source": [
    "img_url_rel"
   ]
  },
  {
   "cell_type": "code",
   "execution_count": null,
   "metadata": {},
   "outputs": [],
   "source": [
    "featured_image_url = 'https://www.jpl.nasa.gov' + img_url_rel\n",
    "featured_image_url"
   ]
  },
  {
   "cell_type": "markdown",
   "metadata": {},
   "source": [
    "## Mars Weather"
   ]
  },
  {
   "cell_type": "code",
   "execution_count": null,
   "metadata": {},
   "outputs": [],
   "source": [
    "url = 'https://twitter.com/marswxreport?lang=en'\n",
    "browser.visit(url)"
   ]
  },
  {
   "cell_type": "code",
   "execution_count": null,
   "metadata": {},
   "outputs": [],
   "source": [
    "html = browser.html\n",
    "mars_weather_soup = BeautifulSoup(html, 'html.parser')"
   ]
  },
  {
   "cell_type": "code",
   "execution_count": null,
   "metadata": {},
   "outputs": [],
   "source": [
    "#using attrs"
   ]
  },
  {
   "cell_type": "code",
   "execution_count": null,
   "metadata": {},
   "outputs": [],
   "source": [
    "mars_weather_tweet = mars_weather_soup.find('div', attrs={\"class\": \"tweet\", \"data-name\" : \"Mars Weather\"})\n"
   ]
  },
  {
   "cell_type": "code",
   "execution_count": null,
   "metadata": {},
   "outputs": [],
   "source": [
    "mars_weather = mars_weather_tweet.find('p', 'tweet-text').get_text()"
   ]
  },
  {
   "cell_type": "code",
   "execution_count": null,
   "metadata": {},
   "outputs": [],
   "source": [
    "mars_weather"
   ]
  },
  {
   "cell_type": "code",
   "execution_count": null,
   "metadata": {},
   "outputs": [],
   "source": [
    "#using class"
   ]
  },
  {
   "cell_type": "code",
   "execution_count": null,
   "metadata": {},
   "outputs": [],
   "source": [
    "sidebar = mars_weather_soup.find('div', class_='js-tweet-text-container')\n",
    "\n",
    "categories = sidebar.find('p')"
   ]
  },
  {
   "cell_type": "code",
   "execution_count": null,
   "metadata": {},
   "outputs": [],
   "source": [
    "categories.get_text()"
   ]
  },
  {
   "cell_type": "markdown",
   "metadata": {},
   "source": [
    "## Mars Facts"
   ]
  },
  {
   "cell_type": "code",
   "execution_count": 3,
   "metadata": {},
   "outputs": [],
   "source": [
    "url = 'https://space-facts.com/mars/'\n",
    "browser.visit(url)"
   ]
  },
  {
   "cell_type": "code",
   "execution_count": 4,
   "metadata": {},
   "outputs": [],
   "source": [
    "html = browser.html\n",
    "mars_facts_soup = BeautifulSoup(html, 'html.parser')"
   ]
  },
  {
   "cell_type": "code",
   "execution_count": 5,
   "metadata": {},
   "outputs": [],
   "source": [
    "sidebar = mars_facts_soup.find('div', class_='entry-content clearfix')\n",
    "categories = sidebar.find_all('li')"
   ]
  },
  {
   "cell_type": "code",
   "execution_count": 6,
   "metadata": {},
   "outputs": [],
   "source": [
    "content = []\n",
    "titles = []\n",
    "\n",
    "for category in categories:\n",
    "    title = category.find('strong')\n",
    "    titles.append(title)\n",
    "    content.append(category.find('a'))\n"
   ]
  },
  {
   "cell_type": "code",
   "execution_count": 7,
   "metadata": {},
   "outputs": [
    {
     "data": {
      "text/plain": [
       "[                      0                              1\n",
       " 0  Equatorial Diameter:                       6,792 km\n",
       " 1       Polar Diameter:                       6,752 km\n",
       " 2                 Mass:  6.39 × 10^23 kg (0.11 Earths)\n",
       " 3                Moons:            2 (Phobos & Deimos)\n",
       " 4       Orbit Distance:       227,943,824 km (1.38 AU)\n",
       " 5         Orbit Period:           687 days (1.9 years)\n",
       " 6  Surface Temperature:                   -87 to -5 °C\n",
       " 7         First Record:              2nd millennium BC\n",
       " 8          Recorded By:           Egyptian astronomers,\n",
       "   Mars - Earth Comparison             Mars            Earth\n",
       " 0               Diameter:         6,779 km        12,742 km\n",
       " 1                   Mass:  6.39 × 10^23 kg  5.97 × 10^24 kg\n",
       " 2                  Moons:                2                1\n",
       " 3      Distance from Sun:   227,943,824 km   149,598,262 km\n",
       " 4         Length of Year:   687 Earth days      365.24 days\n",
       " 5            Temperature:    -153 to 20 °C      -88 to 58°C,\n",
       "                       0                              1\n",
       " 0  Equatorial Diameter:                       6,792 km\n",
       " 1       Polar Diameter:                       6,752 km\n",
       " 2                 Mass:  6.39 × 10^23 kg (0.11 Earths)\n",
       " 3                Moons:            2 (Phobos & Deimos)\n",
       " 4       Orbit Distance:       227,943,824 km (1.38 AU)\n",
       " 5         Orbit Period:           687 days (1.9 years)\n",
       " 6  Surface Temperature:                   -87 to -5 °C\n",
       " 7         First Record:              2nd millennium BC\n",
       " 8          Recorded By:           Egyptian astronomers]"
      ]
     },
     "execution_count": 7,
     "metadata": {},
     "output_type": "execute_result"
    }
   ],
   "source": [
    "tables = pd.read_html(url)\n",
    "tables"
   ]
  },
  {
   "cell_type": "code",
   "execution_count": 8,
   "metadata": {},
   "outputs": [
    {
     "data": {
      "text/plain": [
       "list"
      ]
     },
     "execution_count": 8,
     "metadata": {},
     "output_type": "execute_result"
    }
   ],
   "source": [
    "type(tables)"
   ]
  },
  {
   "cell_type": "code",
   "execution_count": 9,
   "metadata": {},
   "outputs": [],
   "source": [
    "df = tables[0]"
   ]
  },
  {
   "cell_type": "code",
   "execution_count": 10,
   "metadata": {},
   "outputs": [
    {
     "data": {
      "text/html": [
       "<div>\n",
       "<style scoped>\n",
       "    .dataframe tbody tr th:only-of-type {\n",
       "        vertical-align: middle;\n",
       "    }\n",
       "\n",
       "    .dataframe tbody tr th {\n",
       "        vertical-align: top;\n",
       "    }\n",
       "\n",
       "    .dataframe thead th {\n",
       "        text-align: right;\n",
       "    }\n",
       "</style>\n",
       "<table border=\"1\" class=\"dataframe\">\n",
       "  <thead>\n",
       "    <tr style=\"text-align: right;\">\n",
       "      <th></th>\n",
       "      <th>Mars</th>\n",
       "      <th>Measurements</th>\n",
       "    </tr>\n",
       "  </thead>\n",
       "  <tbody>\n",
       "    <tr>\n",
       "      <td>0</td>\n",
       "      <td>Equatorial Diameter:</td>\n",
       "      <td>6,792 km</td>\n",
       "    </tr>\n",
       "    <tr>\n",
       "      <td>1</td>\n",
       "      <td>Polar Diameter:</td>\n",
       "      <td>6,752 km</td>\n",
       "    </tr>\n",
       "    <tr>\n",
       "      <td>2</td>\n",
       "      <td>Mass:</td>\n",
       "      <td>6.39 × 10^23 kg (0.11 Earths)</td>\n",
       "    </tr>\n",
       "    <tr>\n",
       "      <td>3</td>\n",
       "      <td>Moons:</td>\n",
       "      <td>2 (Phobos &amp; Deimos)</td>\n",
       "    </tr>\n",
       "    <tr>\n",
       "      <td>4</td>\n",
       "      <td>Orbit Distance:</td>\n",
       "      <td>227,943,824 km (1.38 AU)</td>\n",
       "    </tr>\n",
       "    <tr>\n",
       "      <td>5</td>\n",
       "      <td>Orbit Period:</td>\n",
       "      <td>687 days (1.9 years)</td>\n",
       "    </tr>\n",
       "    <tr>\n",
       "      <td>6</td>\n",
       "      <td>Surface Temperature:</td>\n",
       "      <td>-87 to -5 °C</td>\n",
       "    </tr>\n",
       "    <tr>\n",
       "      <td>7</td>\n",
       "      <td>First Record:</td>\n",
       "      <td>2nd millennium BC</td>\n",
       "    </tr>\n",
       "    <tr>\n",
       "      <td>8</td>\n",
       "      <td>Recorded By:</td>\n",
       "      <td>Egyptian astronomers</td>\n",
       "    </tr>\n",
       "  </tbody>\n",
       "</table>\n",
       "</div>"
      ],
      "text/plain": [
       "                   Mars                   Measurements\n",
       "0  Equatorial Diameter:                       6,792 km\n",
       "1       Polar Diameter:                       6,752 km\n",
       "2                 Mass:  6.39 × 10^23 kg (0.11 Earths)\n",
       "3                Moons:            2 (Phobos & Deimos)\n",
       "4       Orbit Distance:       227,943,824 km (1.38 AU)\n",
       "5         Orbit Period:           687 days (1.9 years)\n",
       "6  Surface Temperature:                   -87 to -5 °C\n",
       "7         First Record:              2nd millennium BC\n",
       "8          Recorded By:           Egyptian astronomers"
      ]
     },
     "execution_count": 10,
     "metadata": {},
     "output_type": "execute_result"
    }
   ],
   "source": [
    "df.columns = ['Mars', 'Measurements']\n",
    "df"
   ]
  },
  {
   "cell_type": "code",
   "execution_count": 11,
   "metadata": {},
   "outputs": [],
   "source": [
    "html_table = df.to_html()"
   ]
  },
  {
   "cell_type": "code",
   "execution_count": 12,
   "metadata": {},
   "outputs": [
    {
     "data": {
      "text/plain": [
       "'<table border=\"1\" class=\"dataframe\">\\n  <thead>\\n    <tr style=\"text-align: right;\">\\n      <th></th>\\n      <th>Mars</th>\\n      <th>Measurements</th>\\n    </tr>\\n  </thead>\\n  <tbody>\\n    <tr>\\n      <th>0</th>\\n      <td>Equatorial Diameter:</td>\\n      <td>6,792 km</td>\\n    </tr>\\n    <tr>\\n      <th>1</th>\\n      <td>Polar Diameter:</td>\\n      <td>6,752 km</td>\\n    </tr>\\n    <tr>\\n      <th>2</th>\\n      <td>Mass:</td>\\n      <td>6.39 × 10^23 kg (0.11 Earths)</td>\\n    </tr>\\n    <tr>\\n      <th>3</th>\\n      <td>Moons:</td>\\n      <td>2 (Phobos &amp; Deimos)</td>\\n    </tr>\\n    <tr>\\n      <th>4</th>\\n      <td>Orbit Distance:</td>\\n      <td>227,943,824 km (1.38 AU)</td>\\n    </tr>\\n    <tr>\\n      <th>5</th>\\n      <td>Orbit Period:</td>\\n      <td>687 days (1.9 years)</td>\\n    </tr>\\n    <tr>\\n      <th>6</th>\\n      <td>Surface Temperature:</td>\\n      <td>-87 to -5 °C</td>\\n    </tr>\\n    <tr>\\n      <th>7</th>\\n      <td>First Record:</td>\\n      <td>2nd millennium BC</td>\\n    </tr>\\n    <tr>\\n      <th>8</th>\\n      <td>Recorded By:</td>\\n      <td>Egyptian astronomers</td>\\n    </tr>\\n  </tbody>\\n</table>'"
      ]
     },
     "execution_count": 12,
     "metadata": {},
     "output_type": "execute_result"
    }
   ],
   "source": [
    "html_table"
   ]
  },
  {
   "cell_type": "code",
   "execution_count": 13,
   "metadata": {},
   "outputs": [
    {
     "data": {
      "text/plain": [
       "str"
      ]
     },
     "execution_count": 13,
     "metadata": {},
     "output_type": "execute_result"
    }
   ],
   "source": [
    "type(html_table)"
   ]
  },
  {
   "cell_type": "code",
   "execution_count": 14,
   "metadata": {},
   "outputs": [
    {
     "data": {
      "text/plain": [
       "['<table',\n",
       " 'border=\"1\"',\n",
       " 'class=\"dataframe\">\\n',\n",
       " '',\n",
       " '<thead>\\n',\n",
       " '',\n",
       " '',\n",
       " '',\n",
       " '<tr',\n",
       " 'style=\"text-align:',\n",
       " 'right;\">\\n',\n",
       " '',\n",
       " '',\n",
       " '',\n",
       " '',\n",
       " '',\n",
       " '<th></th>\\n',\n",
       " '',\n",
       " '',\n",
       " '',\n",
       " '',\n",
       " '',\n",
       " '<th>Mars</th>\\n',\n",
       " '',\n",
       " '',\n",
       " '',\n",
       " '',\n",
       " '',\n",
       " '<th>Measurements</th>\\n',\n",
       " '',\n",
       " '',\n",
       " '',\n",
       " '</tr>\\n',\n",
       " '',\n",
       " '</thead>\\n',\n",
       " '',\n",
       " '<tbody>\\n',\n",
       " '',\n",
       " '',\n",
       " '',\n",
       " '<tr>\\n',\n",
       " '',\n",
       " '',\n",
       " '',\n",
       " '',\n",
       " '',\n",
       " '<th>0</th>\\n',\n",
       " '',\n",
       " '',\n",
       " '',\n",
       " '',\n",
       " '',\n",
       " '<td>Equatorial',\n",
       " 'Diameter:</td>\\n',\n",
       " '',\n",
       " '',\n",
       " '',\n",
       " '',\n",
       " '',\n",
       " '<td>6,792',\n",
       " 'km</td>\\n',\n",
       " '',\n",
       " '',\n",
       " '',\n",
       " '</tr>\\n',\n",
       " '',\n",
       " '',\n",
       " '',\n",
       " '<tr>\\n',\n",
       " '',\n",
       " '',\n",
       " '',\n",
       " '',\n",
       " '',\n",
       " '<th>1</th>\\n',\n",
       " '',\n",
       " '',\n",
       " '',\n",
       " '',\n",
       " '',\n",
       " '<td>Polar',\n",
       " 'Diameter:</td>\\n',\n",
       " '',\n",
       " '',\n",
       " '',\n",
       " '',\n",
       " '',\n",
       " '<td>6,752',\n",
       " 'km</td>\\n',\n",
       " '',\n",
       " '',\n",
       " '',\n",
       " '</tr>\\n',\n",
       " '',\n",
       " '',\n",
       " '',\n",
       " '<tr>\\n',\n",
       " '',\n",
       " '',\n",
       " '',\n",
       " '',\n",
       " '',\n",
       " '<th>2</th>\\n',\n",
       " '',\n",
       " '',\n",
       " '',\n",
       " '',\n",
       " '',\n",
       " '<td>Mass:</td>\\n',\n",
       " '',\n",
       " '',\n",
       " '',\n",
       " '',\n",
       " '',\n",
       " '<td>6.39',\n",
       " '×',\n",
       " '10^23',\n",
       " 'kg',\n",
       " '(0.11',\n",
       " 'Earths)</td>\\n',\n",
       " '',\n",
       " '',\n",
       " '',\n",
       " '</tr>\\n',\n",
       " '',\n",
       " '',\n",
       " '',\n",
       " '<tr>\\n',\n",
       " '',\n",
       " '',\n",
       " '',\n",
       " '',\n",
       " '',\n",
       " '<th>3</th>\\n',\n",
       " '',\n",
       " '',\n",
       " '',\n",
       " '',\n",
       " '',\n",
       " '<td>Moons:</td>\\n',\n",
       " '',\n",
       " '',\n",
       " '',\n",
       " '',\n",
       " '',\n",
       " '<td>2',\n",
       " '(Phobos',\n",
       " '&amp;',\n",
       " 'Deimos)</td>\\n',\n",
       " '',\n",
       " '',\n",
       " '',\n",
       " '</tr>\\n',\n",
       " '',\n",
       " '',\n",
       " '',\n",
       " '<tr>\\n',\n",
       " '',\n",
       " '',\n",
       " '',\n",
       " '',\n",
       " '',\n",
       " '<th>4</th>\\n',\n",
       " '',\n",
       " '',\n",
       " '',\n",
       " '',\n",
       " '',\n",
       " '<td>Orbit',\n",
       " 'Distance:</td>\\n',\n",
       " '',\n",
       " '',\n",
       " '',\n",
       " '',\n",
       " '',\n",
       " '<td>227,943,824',\n",
       " 'km',\n",
       " '(1.38',\n",
       " 'AU)</td>\\n',\n",
       " '',\n",
       " '',\n",
       " '',\n",
       " '</tr>\\n',\n",
       " '',\n",
       " '',\n",
       " '',\n",
       " '<tr>\\n',\n",
       " '',\n",
       " '',\n",
       " '',\n",
       " '',\n",
       " '',\n",
       " '<th>5</th>\\n',\n",
       " '',\n",
       " '',\n",
       " '',\n",
       " '',\n",
       " '',\n",
       " '<td>Orbit',\n",
       " 'Period:</td>\\n',\n",
       " '',\n",
       " '',\n",
       " '',\n",
       " '',\n",
       " '',\n",
       " '<td>687',\n",
       " 'days',\n",
       " '(1.9',\n",
       " 'years)</td>\\n',\n",
       " '',\n",
       " '',\n",
       " '',\n",
       " '</tr>\\n',\n",
       " '',\n",
       " '',\n",
       " '',\n",
       " '<tr>\\n',\n",
       " '',\n",
       " '',\n",
       " '',\n",
       " '',\n",
       " '',\n",
       " '<th>6</th>\\n',\n",
       " '',\n",
       " '',\n",
       " '',\n",
       " '',\n",
       " '',\n",
       " '<td>Surface',\n",
       " 'Temperature:</td>\\n',\n",
       " '',\n",
       " '',\n",
       " '',\n",
       " '',\n",
       " '',\n",
       " '<td>-87',\n",
       " 'to',\n",
       " '-5',\n",
       " '°C</td>\\n',\n",
       " '',\n",
       " '',\n",
       " '',\n",
       " '</tr>\\n',\n",
       " '',\n",
       " '',\n",
       " '',\n",
       " '<tr>\\n',\n",
       " '',\n",
       " '',\n",
       " '',\n",
       " '',\n",
       " '',\n",
       " '<th>7</th>\\n',\n",
       " '',\n",
       " '',\n",
       " '',\n",
       " '',\n",
       " '',\n",
       " '<td>First',\n",
       " 'Record:</td>\\n',\n",
       " '',\n",
       " '',\n",
       " '',\n",
       " '',\n",
       " '',\n",
       " '<td>2nd',\n",
       " 'millennium',\n",
       " 'BC</td>\\n',\n",
       " '',\n",
       " '',\n",
       " '',\n",
       " '</tr>\\n',\n",
       " '',\n",
       " '',\n",
       " '',\n",
       " '<tr>\\n',\n",
       " '',\n",
       " '',\n",
       " '',\n",
       " '',\n",
       " '',\n",
       " '<th>8</th>\\n',\n",
       " '',\n",
       " '',\n",
       " '',\n",
       " '',\n",
       " '',\n",
       " '<td>Recorded',\n",
       " 'By:</td>\\n',\n",
       " '',\n",
       " '',\n",
       " '',\n",
       " '',\n",
       " '',\n",
       " '<td>Egyptian',\n",
       " 'astronomers</td>\\n',\n",
       " '',\n",
       " '',\n",
       " '',\n",
       " '</tr>\\n',\n",
       " '',\n",
       " '</tbody>\\n</table>']"
      ]
     },
     "execution_count": 14,
     "metadata": {},
     "output_type": "execute_result"
    }
   ],
   "source": [
    "html_table = html_table.split(\" \")\n",
    "html_table"
   ]
  },
  {
   "cell_type": "code",
   "execution_count": 15,
   "metadata": {},
   "outputs": [
    {
     "data": {
      "text/plain": [
       "302"
      ]
     },
     "execution_count": 15,
     "metadata": {},
     "output_type": "execute_result"
    }
   ],
   "source": [
    "len(html_table)"
   ]
  },
  {
   "cell_type": "code",
   "execution_count": 16,
   "metadata": {},
   "outputs": [
    {
     "data": {
      "text/plain": [
       "'<tableborder=\"1\"class=\"dataframe\">\\n'"
      ]
     },
     "execution_count": 16,
     "metadata": {},
     "output_type": "execute_result"
    }
   ],
   "source": [
    "html_table[0] + html_table[1] + html_table[2]"
   ]
  },
  {
   "cell_type": "code",
   "execution_count": null,
   "metadata": {},
   "outputs": [],
   "source": [
    "## HERE"
   ]
  },
  {
   "cell_type": "code",
   "execution_count": 17,
   "metadata": {},
   "outputs": [
    {
     "data": {
      "text/plain": [
       "'</tbody>\\n</table>'"
      ]
     },
     "execution_count": 17,
     "metadata": {},
     "output_type": "execute_result"
    }
   ],
   "source": [
    "html_table[-1]"
   ]
  },
  {
   "cell_type": "code",
   "execution_count": 18,
   "metadata": {},
   "outputs": [
    {
     "data": {
      "text/plain": [
       "['</tbody>', '</table>']"
      ]
     },
     "execution_count": 18,
     "metadata": {},
     "output_type": "execute_result"
    }
   ],
   "source": [
    "html_end = html_table[-1].split(\"\\n\")\n",
    "html_end"
   ]
  },
  {
   "cell_type": "code",
   "execution_count": 19,
   "metadata": {},
   "outputs": [
    {
     "data": {
      "text/plain": [
       "str"
      ]
     },
     "execution_count": 19,
     "metadata": {},
     "output_type": "execute_result"
    }
   ],
   "source": [
    "html_end = html_end[0]\n",
    "#type(html_end)"
   ]
  },
  {
   "cell_type": "code",
   "execution_count": 21,
   "metadata": {},
   "outputs": [],
   "source": [
    "html_table = [html_table[i] for i in range(3,301)]"
   ]
  },
  {
   "cell_type": "code",
   "execution_count": 22,
   "metadata": {},
   "outputs": [
    {
     "data": {
      "text/plain": [
       "['',\n",
       " '<thead>\\n',\n",
       " '',\n",
       " '',\n",
       " '',\n",
       " '<tr',\n",
       " 'style=\"text-align:',\n",
       " 'right;\">\\n',\n",
       " '',\n",
       " '',\n",
       " '',\n",
       " '',\n",
       " '',\n",
       " '<th></th>\\n',\n",
       " '',\n",
       " '',\n",
       " '',\n",
       " '',\n",
       " '',\n",
       " '<th>Mars</th>\\n',\n",
       " '',\n",
       " '',\n",
       " '',\n",
       " '',\n",
       " '',\n",
       " '<th>Measurements</th>\\n',\n",
       " '',\n",
       " '',\n",
       " '',\n",
       " '</tr>\\n',\n",
       " '',\n",
       " '</thead>\\n',\n",
       " '',\n",
       " '<tbody>\\n',\n",
       " '',\n",
       " '',\n",
       " '',\n",
       " '<tr>\\n',\n",
       " '',\n",
       " '',\n",
       " '',\n",
       " '',\n",
       " '',\n",
       " '<th>0</th>\\n',\n",
       " '',\n",
       " '',\n",
       " '',\n",
       " '',\n",
       " '',\n",
       " '<td>Equatorial',\n",
       " 'Diameter:</td>\\n',\n",
       " '',\n",
       " '',\n",
       " '',\n",
       " '',\n",
       " '',\n",
       " '<td>6,792',\n",
       " 'km</td>\\n',\n",
       " '',\n",
       " '',\n",
       " '',\n",
       " '</tr>\\n',\n",
       " '',\n",
       " '',\n",
       " '',\n",
       " '<tr>\\n',\n",
       " '',\n",
       " '',\n",
       " '',\n",
       " '',\n",
       " '',\n",
       " '<th>1</th>\\n',\n",
       " '',\n",
       " '',\n",
       " '',\n",
       " '',\n",
       " '',\n",
       " '<td>Polar',\n",
       " 'Diameter:</td>\\n',\n",
       " '',\n",
       " '',\n",
       " '',\n",
       " '',\n",
       " '',\n",
       " '<td>6,752',\n",
       " 'km</td>\\n',\n",
       " '',\n",
       " '',\n",
       " '',\n",
       " '</tr>\\n',\n",
       " '',\n",
       " '',\n",
       " '',\n",
       " '<tr>\\n',\n",
       " '',\n",
       " '',\n",
       " '',\n",
       " '',\n",
       " '',\n",
       " '<th>2</th>\\n',\n",
       " '',\n",
       " '',\n",
       " '',\n",
       " '',\n",
       " '',\n",
       " '<td>Mass:</td>\\n',\n",
       " '',\n",
       " '',\n",
       " '',\n",
       " '',\n",
       " '',\n",
       " '<td>6.39',\n",
       " '×',\n",
       " '10^23',\n",
       " 'kg',\n",
       " '(0.11',\n",
       " 'Earths)</td>\\n',\n",
       " '',\n",
       " '',\n",
       " '',\n",
       " '</tr>\\n',\n",
       " '',\n",
       " '',\n",
       " '',\n",
       " '<tr>\\n',\n",
       " '',\n",
       " '',\n",
       " '',\n",
       " '',\n",
       " '',\n",
       " '<th>3</th>\\n',\n",
       " '',\n",
       " '',\n",
       " '',\n",
       " '',\n",
       " '',\n",
       " '<td>Moons:</td>\\n',\n",
       " '',\n",
       " '',\n",
       " '',\n",
       " '',\n",
       " '',\n",
       " '<td>2',\n",
       " '(Phobos',\n",
       " '&amp;',\n",
       " 'Deimos)</td>\\n',\n",
       " '',\n",
       " '',\n",
       " '',\n",
       " '</tr>\\n',\n",
       " '',\n",
       " '',\n",
       " '',\n",
       " '<tr>\\n',\n",
       " '',\n",
       " '',\n",
       " '',\n",
       " '',\n",
       " '',\n",
       " '<th>4</th>\\n',\n",
       " '',\n",
       " '',\n",
       " '',\n",
       " '',\n",
       " '',\n",
       " '<td>Orbit',\n",
       " 'Distance:</td>\\n',\n",
       " '',\n",
       " '',\n",
       " '',\n",
       " '',\n",
       " '',\n",
       " '<td>227,943,824',\n",
       " 'km',\n",
       " '(1.38',\n",
       " 'AU)</td>\\n',\n",
       " '',\n",
       " '',\n",
       " '',\n",
       " '</tr>\\n',\n",
       " '',\n",
       " '',\n",
       " '',\n",
       " '<tr>\\n',\n",
       " '',\n",
       " '',\n",
       " '',\n",
       " '',\n",
       " '',\n",
       " '<th>5</th>\\n',\n",
       " '',\n",
       " '',\n",
       " '',\n",
       " '',\n",
       " '',\n",
       " '<td>Orbit',\n",
       " 'Period:</td>\\n',\n",
       " '',\n",
       " '',\n",
       " '',\n",
       " '',\n",
       " '',\n",
       " '<td>687',\n",
       " 'days',\n",
       " '(1.9',\n",
       " 'years)</td>\\n',\n",
       " '',\n",
       " '',\n",
       " '',\n",
       " '</tr>\\n',\n",
       " '',\n",
       " '',\n",
       " '',\n",
       " '<tr>\\n',\n",
       " '',\n",
       " '',\n",
       " '',\n",
       " '',\n",
       " '',\n",
       " '<th>6</th>\\n',\n",
       " '',\n",
       " '',\n",
       " '',\n",
       " '',\n",
       " '',\n",
       " '<td>Surface',\n",
       " 'Temperature:</td>\\n',\n",
       " '',\n",
       " '',\n",
       " '',\n",
       " '',\n",
       " '',\n",
       " '<td>-87',\n",
       " 'to',\n",
       " '-5',\n",
       " '°C</td>\\n',\n",
       " '',\n",
       " '',\n",
       " '',\n",
       " '</tr>\\n',\n",
       " '',\n",
       " '',\n",
       " '',\n",
       " '<tr>\\n',\n",
       " '',\n",
       " '',\n",
       " '',\n",
       " '',\n",
       " '',\n",
       " '<th>7</th>\\n',\n",
       " '',\n",
       " '',\n",
       " '',\n",
       " '',\n",
       " '',\n",
       " '<td>First',\n",
       " 'Record:</td>\\n',\n",
       " '',\n",
       " '',\n",
       " '',\n",
       " '',\n",
       " '',\n",
       " '<td>2nd',\n",
       " 'millennium',\n",
       " 'BC</td>\\n',\n",
       " '',\n",
       " '',\n",
       " '',\n",
       " '</tr>\\n',\n",
       " '',\n",
       " '',\n",
       " '',\n",
       " '<tr>\\n',\n",
       " '',\n",
       " '',\n",
       " '',\n",
       " '',\n",
       " '',\n",
       " '<th>8</th>\\n',\n",
       " '',\n",
       " '',\n",
       " '',\n",
       " '',\n",
       " '',\n",
       " '<td>Recorded',\n",
       " 'By:</td>\\n',\n",
       " '',\n",
       " '',\n",
       " '',\n",
       " '',\n",
       " '',\n",
       " '<td>Egyptian',\n",
       " 'astronomers</td>\\n',\n",
       " '',\n",
       " '',\n",
       " '',\n",
       " '</tr>\\n',\n",
       " '']"
      ]
     },
     "execution_count": 22,
     "metadata": {},
     "output_type": "execute_result"
    }
   ],
   "source": [
    "html_table"
   ]
  },
  {
   "cell_type": "code",
   "execution_count": 27,
   "metadata": {},
   "outputs": [],
   "source": [
    "def concatenate_list_data(list):\n",
    "    result= ''\n",
    "    for element in list:\n",
    "        result += str(element)\n",
    "    return result"
   ]
  },
  {
   "cell_type": "code",
   "execution_count": 24,
   "metadata": {},
   "outputs": [
    {
     "data": {
      "text/plain": [
       "'<thead>\\n<trstyle=\"text-align:right;\">\\n<th></th>\\n<th>Mars</th>\\n<th>Measurements</th>\\n</tr>\\n</thead>\\n<tbody>\\n<tr>\\n<th>0</th>\\n<td>EquatorialDiameter:</td>\\n<td>6,792km</td>\\n</tr>\\n<tr>\\n<th>1</th>\\n<td>PolarDiameter:</td>\\n<td>6,752km</td>\\n</tr>\\n<tr>\\n<th>2</th>\\n<td>Mass:</td>\\n<td>6.39×10^23kg(0.11Earths)</td>\\n</tr>\\n<tr>\\n<th>3</th>\\n<td>Moons:</td>\\n<td>2(Phobos&amp;Deimos)</td>\\n</tr>\\n<tr>\\n<th>4</th>\\n<td>OrbitDistance:</td>\\n<td>227,943,824km(1.38AU)</td>\\n</tr>\\n<tr>\\n<th>5</th>\\n<td>OrbitPeriod:</td>\\n<td>687days(1.9years)</td>\\n</tr>\\n<tr>\\n<th>6</th>\\n<td>SurfaceTemperature:</td>\\n<td>-87to-5°C</td>\\n</tr>\\n<tr>\\n<th>7</th>\\n<td>FirstRecord:</td>\\n<td>2ndmillenniumBC</td>\\n</tr>\\n<tr>\\n<th>8</th>\\n<td>RecordedBy:</td>\\n<td>Egyptianastronomers</td>\\n</tr>\\n</tbody>'"
      ]
     },
     "execution_count": 24,
     "metadata": {},
     "output_type": "execute_result"
    }
   ],
   "source": [
    "html_table = concatenate_list_data(html_table)\n",
    "html_table = html_table + html_end\n",
    "html_table"
   ]
  },
  {
   "cell_type": "code",
   "execution_count": 25,
   "metadata": {},
   "outputs": [
    {
     "data": {
      "text/plain": [
       "'<thead><trstyle=\"text-align:right;\"><th></th><th>Mars</th><th>Measurements</th></tr></thead><tbody><tr><th>0</th><td>EquatorialDiameter:</td><td>6,792km</td></tr><tr><th>1</th><td>PolarDiameter:</td><td>6,752km</td></tr><tr><th>2</th><td>Mass:</td><td>6.39×10^23kg(0.11Earths)</td></tr><tr><th>3</th><td>Moons:</td><td>2(Phobos&amp;Deimos)</td></tr><tr><th>4</th><td>OrbitDistance:</td><td>227,943,824km(1.38AU)</td></tr><tr><th>5</th><td>OrbitPeriod:</td><td>687days(1.9years)</td></tr><tr><th>6</th><td>SurfaceTemperature:</td><td>-87to-5°C</td></tr><tr><th>7</th><td>FirstRecord:</td><td>2ndmillenniumBC</td></tr><tr><th>8</th><td>RecordedBy:</td><td>Egyptianastronomers</td></tr></tbody>'"
      ]
     },
     "execution_count": 25,
     "metadata": {},
     "output_type": "execute_result"
    }
   ],
   "source": [
    "html_table.replace('\\n', '')"
   ]
  },
  {
   "cell_type": "code",
   "execution_count": 26,
   "metadata": {},
   "outputs": [],
   "source": [
    "df.to_html('table.html', index = False)"
   ]
  },
  {
   "cell_type": "markdown",
   "metadata": {},
   "source": [
    "## Mars Hemispheres"
   ]
  },
  {
   "cell_type": "code",
   "execution_count": 131,
   "metadata": {},
   "outputs": [],
   "source": [
    "url = 'https://astrogeology.usgs.gov/search/results?q=hemisphere+enhanced&k1=target&v1=Mars'\n",
    "browser.visit(url)"
   ]
  },
  {
   "cell_type": "code",
   "execution_count": 132,
   "metadata": {},
   "outputs": [],
   "source": [
    "html = browser.html\n",
    "mars_hemispheres_soup = BeautifulSoup(html, 'html.parser')"
   ]
  },
  {
   "cell_type": "markdown",
   "metadata": {},
   "source": [
    "## Create a loop here that will go through all of the 4 hemeispheres to grab the image"
   ]
  },
  {
   "cell_type": "code",
   "execution_count": 133,
   "metadata": {},
   "outputs": [
    {
     "data": {
      "text/plain": [
       "['Cerberus Hemisphere Enhanced',\n",
       " 'Schiaparelli Hemisphere Enhanced',\n",
       " 'Syrtis Major Hemisphere Enhanced',\n",
       " 'Valles Marineris Hemisphere Enhanced']"
      ]
     },
     "execution_count": 133,
     "metadata": {},
     "output_type": "execute_result"
    }
   ],
   "source": [
    "list_hemispheres = ['Cerberus Hemisphere Enhanced', 'Schiaparelli Hemisphere Enhanced', 'Syrtis Major Hemisphere Enhanced', 'Valles Marineris Hemisphere Enhanced']\n",
    "list_hemispheres"
   ]
  },
  {
   "cell_type": "code",
   "execution_count": 146,
   "metadata": {},
   "outputs": [],
   "source": [
    "titles = []\n",
    "imgs = []\n",
    "a = []"
   ]
  },
  {
   "cell_type": "code",
   "execution_count": 147,
   "metadata": {},
   "outputs": [],
   "source": [
    "for element in list_hemispheres:\n",
    "        url = 'https://astrogeology.usgs.gov/search/results?q=hemisphere+enhanced&k1=target&v1=Mars'\n",
    "        browser.visit(url)\n",
    "        \n",
    "        html = browser.html\n",
    "        mars_hemispheres_soup = BeautifulSoup(html, 'html.parser')\n",
    "\n",
    "        browser.click_link_by_partial_text(element)\n",
    "        \n",
    "        html = browser.html\n",
    "        mars_hemispheres_soup = BeautifulSoup(html, 'html.parser')\n",
    "\n",
    "        current_mars_hemisphere_title = mars_hemispheres_soup.find('h2', class_='title')\n",
    "        current_mars_hemisphere_title = current_mars_hemisphere_title.get_text()\n",
    "        current_mars_hemisphere_title = current_mars_hemisphere_title.split(\" \")\n",
    "        current_mars_hemisphere_title = current_mars_hemisphere_title[0] + \" \" + current_mars_hemisphere_title[1]\n",
    "        \n",
    "        ## current_mars_hemisphere_title ->\n",
    "        titles.append(current_mars_hemisphere_title)\n",
    "\n",
    "        current_mars_hemisphere_image = mars_hemispheres_soup.find('li')\n",
    "        current_mars_hemisphere_image = str(current_mars_hemisphere_image.prettify())\n",
    "        current_mars_hemisphere_image = current_mars_hemisphere_image.split(\" \")\n",
    "        current_mars_hemisphere_href = current_mars_hemisphere_image[2]\n",
    "        current_mars_hemisphere_img = current_mars_hemisphere_href.split(\"=\")\n",
    "        current_mars_hemisphere_img = current_mars_hemisphere_img[1]\n",
    "        jpg_range = len(current_mars_hemisphere_img)\n",
    "        a.append(jpg_range)\n",
    "        current_mars_hemisphere_img = [current_mars_hemisphere_img[i] for i in range(1, (jpg_range - 1))]\n",
    "        current_mars_hemisphere_img = concatenate_list_data(current_mars_hemisphere_img)\n",
    "\n",
    "        ## current_mars_hemisphere_href ->\n",
    "        imgs.append(current_mars_hemisphere_img)"
   ]
  },
  {
   "cell_type": "code",
   "execution_count": 148,
   "metadata": {},
   "outputs": [
    {
     "name": "stdout",
     "output_type": "stream",
     "text": [
      "[93, 97, 97, 101]\n"
     ]
    }
   ],
   "source": [
    "print(a)"
   ]
  },
  {
   "cell_type": "code",
   "execution_count": 149,
   "metadata": {},
   "outputs": [],
   "source": [
    "hemisphere_image_urls = []\n",
    "hemisphere_dict = {}"
   ]
  },
  {
   "cell_type": "code",
   "execution_count": null,
   "metadata": {},
   "outputs": [],
   "source": []
  },
  {
   "cell_type": "code",
   "execution_count": 150,
   "metadata": {},
   "outputs": [
    {
     "name": "stdout",
     "output_type": "stream",
     "text": [
      "[{'title': 'Cerberus Hemisphere', 'img_url': 'http://astropedia.astrogeology.usgs.gov/download/Mars/Viking/cerberus_enhanced.tif/full.jpg'}, {'title': 'Schiaparelli Hemisphere', 'img_url': 'http://astropedia.astrogeology.usgs.gov/download/Mars/Viking/schiaparelli_enhanced.tif/full.jpg'}, {'title': 'Syrtis Major', 'img_url': 'http://astropedia.astrogeology.usgs.gov/download/Mars/Viking/syrtis_major_enhanced.tif/full.jpg'}, {'title': 'Valles Marineris', 'img_url': 'http://astropedia.astrogeology.usgs.gov/download/Mars/Viking/valles_marineris_enhanced.tif/full.jpg'}]\n"
     ]
    }
   ],
   "source": [
    "for i in range(4):\n",
    "    hemisphere_dict = {'title' : titles[i], 'img_url' : imgs[i]}\n",
    "    hemisphere_image_urls.append(hemisphere_dict)\n",
    "print(hemisphere_image_urls)"
   ]
  },
  {
   "cell_type": "code",
   "execution_count": 48,
   "metadata": {},
   "outputs": [
    {
     "data": {
      "text/plain": [
       "'Cerberus Hemisphere'"
      ]
     },
     "execution_count": 48,
     "metadata": {},
     "output_type": "execute_result"
    }
   ],
   "source": [
    "hemisphere_image_urls[0][\"title\"]"
   ]
  },
  {
   "cell_type": "markdown",
   "metadata": {},
   "source": [
    "## This is one instance of the loop that will be copied"
   ]
  },
  {
   "cell_type": "code",
   "execution_count": 107,
   "metadata": {},
   "outputs": [],
   "source": [
    "browser.click_link_by_partial_text('Cerberus Hemisphere Enhanced')"
   ]
  },
  {
   "cell_type": "code",
   "execution_count": 108,
   "metadata": {},
   "outputs": [],
   "source": [
    "html = browser.html\n",
    "mars_hemispheres_soup = BeautifulSoup(html, 'html.parser')"
   ]
  },
  {
   "cell_type": "code",
   "execution_count": 109,
   "metadata": {},
   "outputs": [
    {
     "name": "stdout",
     "output_type": "stream",
     "text": [
      "Cerberus Hemisphere\n"
     ]
    }
   ],
   "source": [
    "current_mars_hemisphere_title = mars_hemispheres_soup.find('h2', class_='title')\n",
    "current_mars_hemisphere_title = current_mars_hemisphere_title.get_text()\n",
    "current_mars_hemisphere_title = current_mars_hemisphere_title.split(\" \")\n",
    "current_mars_hemisphere_title = current_mars_hemisphere_title[0] + \" \" + current_mars_hemisphere_title[1]\n",
    "print(current_mars_hemisphere_title)"
   ]
  },
  {
   "cell_type": "code",
   "execution_count": 110,
   "metadata": {},
   "outputs": [
    {
     "name": "stdout",
     "output_type": "stream",
     "text": [
      "<div class=\"wide-image-wrapper\" id=\"wide-image\">\n",
      " <div class=\"downloads\">\n",
      "  <img class=\"thumb\" src=\"/cache/images/dfaf3849e74bf973b59eb50dab52b583_cerberus_enhanced.tif_thumb.png\"/>\n",
      "  <h3>\n",
      "   Download\n",
      "  </h3>\n",
      "  <ul>\n",
      "   <li>\n",
      "    <a href=\"http://astropedia.astrogeology.usgs.gov/download/Mars/Viking/cerberus_enhanced.tif/full.jpg\" target=\"_blank\">\n",
      "     Sample\n",
      "    </a>\n",
      "    (jpg) 1024px wide\n",
      "   </li>\n",
      "   <li>\n",
      "    <a href=\"http://astropedia.astrogeology.usgs.gov/download/Mars/Viking/cerberus_enhanced.tif\" target=\"_blank\">\n",
      "     Original\n",
      "    </a>\n",
      "    (tif\n",
      "    <span class=\"tooltip word-tif\" title=\"\">\n",
      "    </span>\n",
      "    ) 21 MB\n",
      "   </li>\n",
      "  </ul>\n",
      " </div>\n",
      " <img class=\"wide-image\" src=\"/cache/images/cfa62af2557222a02478f1fcd781d445_cerberus_enhanced.tif_full.jpg\"/>\n",
      " <a class=\"open-toggle\" href=\"#open\" id=\"wide-image-toggle\">\n",
      "  Open\n",
      " </a>\n",
      "</div>\n",
      "\n"
     ]
    }
   ],
   "source": [
    "current_mars_hemisphere_image = mars_hemispheres_soup.find('div', class_='wide-image-wrapper')\n",
    "print(current_mars_hemisphere_image.prettify())"
   ]
  },
  {
   "cell_type": "code",
   "execution_count": 111,
   "metadata": {},
   "outputs": [
    {
     "name": "stdout",
     "output_type": "stream",
     "text": [
      "<div class=\"downloads\">\n",
      " <img class=\"thumb\" src=\"/cache/images/dfaf3849e74bf973b59eb50dab52b583_cerberus_enhanced.tif_thumb.png\"/>\n",
      " <h3>\n",
      "  Download\n",
      " </h3>\n",
      " <ul>\n",
      "  <li>\n",
      "   <a href=\"http://astropedia.astrogeology.usgs.gov/download/Mars/Viking/cerberus_enhanced.tif/full.jpg\" target=\"_blank\">\n",
      "    Sample\n",
      "   </a>\n",
      "   (jpg) 1024px wide\n",
      "  </li>\n",
      "  <li>\n",
      "   <a href=\"http://astropedia.astrogeology.usgs.gov/download/Mars/Viking/cerberus_enhanced.tif\" target=\"_blank\">\n",
      "    Original\n",
      "   </a>\n",
      "   (tif\n",
      "   <span class=\"tooltip word-tif\" title=\"\">\n",
      "   </span>\n",
      "   ) 21 MB\n",
      "  </li>\n",
      " </ul>\n",
      "</div>\n",
      "\n"
     ]
    }
   ],
   "source": [
    "current_mars_hemisphere_image = mars_hemispheres_soup.find('div', class_='downloads')\n",
    "print(current_mars_hemisphere_image.prettify())"
   ]
  },
  {
   "cell_type": "code",
   "execution_count": 123,
   "metadata": {},
   "outputs": [
    {
     "name": "stdout",
     "output_type": "stream",
     "text": [
      "<li>\n",
      " <a href=\"http://astropedia.astrogeology.usgs.gov/download/Mars/Viking/cerberus_enhanced.tif/full.jpg\" target=\"_blank\">\n",
      "  Sample\n",
      " </a>\n",
      " (jpg) 1024px wide\n",
      "</li>\n",
      "\n"
     ]
    }
   ],
   "source": [
    "current_mars_hemisphere_image = mars_hemispheres_soup.find('li')\n",
    "current_mars_hemisphere_image = str(current_mars_hemisphere_image.prettify())\n",
    "print(current_mars_hemisphere_image)"
   ]
  },
  {
   "cell_type": "code",
   "execution_count": 124,
   "metadata": {},
   "outputs": [],
   "source": [
    "current_mars_hemisphere_image = current_mars_hemisphere_image.split(\" \")\n"
   ]
  },
  {
   "cell_type": "code",
   "execution_count": 125,
   "metadata": {},
   "outputs": [
    {
     "data": {
      "text/plain": [
       "'\"http://astropedia.astrogeology.usgs.gov/download/Mars/Viking/cerberus_enhanced.tif/full.jpg\"'"
      ]
     },
     "execution_count": 125,
     "metadata": {},
     "output_type": "execute_result"
    }
   ],
   "source": [
    "current_mars_hemisphere_href = current_mars_hemisphere_image[2]\n",
    "current_mars_hemisphere_href = current_mars_hemisphere_href.split(\"=\")\n",
    "current_mars_hemisphere_href = current_mars_hemisphere_href[1]\n",
    "\n",
    "current_mars_hemisphere_href"
   ]
  },
  {
   "cell_type": "code",
   "execution_count": null,
   "metadata": {},
   "outputs": [],
   "source": []
  },
  {
   "cell_type": "code",
   "execution_count": 126,
   "metadata": {},
   "outputs": [
    {
     "data": {
      "text/plain": [
       "93"
      ]
     },
     "execution_count": 126,
     "metadata": {},
     "output_type": "execute_result"
    }
   ],
   "source": [
    "jpg_range = len(current_mars_hemisphere_href)"
   ]
  },
  {
   "cell_type": "code",
   "execution_count": 127,
   "metadata": {},
   "outputs": [
    {
     "data": {
      "text/plain": [
       "str"
      ]
     },
     "execution_count": 127,
     "metadata": {},
     "output_type": "execute_result"
    }
   ],
   "source": [
    "type(current_mars_hemisphere_href)"
   ]
  },
  {
   "cell_type": "code",
   "execution_count": 128,
   "metadata": {},
   "outputs": [],
   "source": [
    "def concatenate_list_data(list):\n",
    "    result= ''\n",
    "    for element in list:\n",
    "        result += str(element)\n",
    "    return result"
   ]
  },
  {
   "cell_type": "code",
   "execution_count": 129,
   "metadata": {},
   "outputs": [],
   "source": [
    "current_mars_hemisphere_href = [current_mars_hemisphere_href[i] for i in range(1, 92)]"
   ]
  },
  {
   "cell_type": "code",
   "execution_count": 130,
   "metadata": {},
   "outputs": [
    {
     "data": {
      "text/plain": [
       "'http://astropedia.astrogeology.usgs.gov/download/Mars/Viking/cerberus_enhanced.tif/full.jpg'"
      ]
     },
     "execution_count": 130,
     "metadata": {},
     "output_type": "execute_result"
    }
   ],
   "source": [
    "current_mars_hemisphere_href = concatenate_list_data(current_mars_hemisphere_href)\n",
    "current_mars_hemisphere_href"
   ]
  },
  {
   "cell_type": "code",
   "execution_count": 83,
   "metadata": {},
   "outputs": [
    {
     "data": {
      "text/plain": [
       "'\"'"
      ]
     },
     "execution_count": 83,
     "metadata": {},
     "output_type": "execute_result"
    }
   ],
   "source": [
    "current_mars_hemisphere_href[-1]"
   ]
  },
  {
   "cell_type": "markdown",
   "metadata": {},
   "source": [
    "## Store in a dictionary"
   ]
  },
  {
   "cell_type": "code",
   "execution_count": null,
   "metadata": {},
   "outputs": [],
   "source": [
    "hemisphere_image_urls = []\n",
    "hemisphere_image_urls"
   ]
  },
  {
   "cell_type": "code",
   "execution_count": null,
   "metadata": {},
   "outputs": [],
   "source": [
    "hemisphere_dict = {'title' : current_mars_hemisphere_title, 'img_url' : current_mars_hemisphere_href}\n",
    "hemisphere_dict"
   ]
  },
  {
   "cell_type": "code",
   "execution_count": null,
   "metadata": {},
   "outputs": [],
   "source": [
    "hemisphere_image_urls.append(hemisphere_dict)\n",
    "hemisphere_image_urls"
   ]
  },
  {
   "cell_type": "code",
   "execution_count": null,
   "metadata": {},
   "outputs": [],
   "source": []
  },
  {
   "cell_type": "code",
   "execution_count": null,
   "metadata": {},
   "outputs": [],
   "source": []
  },
  {
   "cell_type": "code",
   "execution_count": null,
   "metadata": {},
   "outputs": [],
   "source": []
  },
  {
   "cell_type": "code",
   "execution_count": null,
   "metadata": {},
   "outputs": [],
   "source": []
  },
  {
   "cell_type": "code",
   "execution_count": null,
   "metadata": {},
   "outputs": [],
   "source": []
  },
  {
   "cell_type": "code",
   "execution_count": null,
   "metadata": {},
   "outputs": [],
   "source": []
  },
  {
   "cell_type": "code",
   "execution_count": null,
   "metadata": {},
   "outputs": [],
   "source": []
  },
  {
   "cell_type": "code",
   "execution_count": null,
   "metadata": {},
   "outputs": [],
   "source": []
  },
  {
   "cell_type": "code",
   "execution_count": null,
   "metadata": {},
   "outputs": [],
   "source": []
  },
  {
   "cell_type": "markdown",
   "metadata": {},
   "source": [
    "## Mars Dune Images"
   ]
  },
  {
   "cell_type": "code",
   "execution_count": null,
   "metadata": {},
   "outputs": [],
   "source": [
    "url = 'https://www.usgs.gov/centers/astrogeology-science-center/science/mars-dunes?qt-science_center_objects=0#qt-science_center_objects'\n",
    "browser.visit(url)"
   ]
  },
  {
   "cell_type": "code",
   "execution_count": null,
   "metadata": {},
   "outputs": [],
   "source": [
    "html = browser.html\n",
    "mars_hemispheres_soup = BeautifulSoup(html, 'html.parser')"
   ]
  },
  {
   "cell_type": "code",
   "execution_count": null,
   "metadata": {},
   "outputs": [],
   "source": [
    "browser.click_link_by_partial_text('THEMIS')"
   ]
  },
  {
   "cell_type": "code",
   "execution_count": null,
   "metadata": {},
   "outputs": [],
   "source": []
  },
  {
   "cell_type": "code",
   "execution_count": null,
   "metadata": {},
   "outputs": [],
   "source": []
  }
 ],
 "metadata": {
  "kernelspec": {
   "display_name": "Python 3",
   "language": "python",
   "name": "python3"
  },
  "language_info": {
   "codemirror_mode": {
    "name": "ipython",
    "version": 3
   },
   "file_extension": ".py",
   "mimetype": "text/x-python",
   "name": "python",
   "nbconvert_exporter": "python",
   "pygments_lexer": "ipython3",
   "version": "3.6.9"
  }
 },
 "nbformat": 4,
 "nbformat_minor": 2
}
